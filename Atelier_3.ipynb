{
  "nbformat": 4,
  "nbformat_minor": 0,
  "metadata": {
    "colab": {
      "provenance": [],
      "authorship_tag": "ABX9TyNkFF1/6NURUsrhZ0Ps2SPF",
      "include_colab_link": true
    },
    "kernelspec": {
      "name": "python3",
      "display_name": "Python 3"
    },
    "language_info": {
      "name": "python"
    }
  },
  "cells": [
    {
      "cell_type": "markdown",
      "metadata": {
        "id": "view-in-github",
        "colab_type": "text"
      },
      "source": [
        "<a href=\"https://colab.research.google.com/github/YASSIRAMRAOUI/Text-Mining/blob/main/Atelier_3.ipynb\" target=\"_parent\"><img src=\"https://colab.research.google.com/assets/colab-badge.svg\" alt=\"Open In Colab\"/></a>"
      ]
    },
    {
      "cell_type": "markdown",
      "source": [
        "# **Classification de textes (Reuters Dataset)**"
      ],
      "metadata": {
        "id": "KI1l_NEhihNR"
      }
    },
    {
      "cell_type": "code",
      "source": [
        "# ==========================================\n",
        "# 📦 INITIALISATION DU PROJET\n",
        "# ==========================================\n",
        "\n",
        "# Installation et importation des librairies nécessaires\n",
        "import nltk\n",
        "from nltk.corpus import reuters\n",
        "from sklearn.preprocessing import MultiLabelBinarizer\n",
        "\n",
        "# Télécharger le corpus Reuters (si ce n’est pas déjà fait)\n",
        "nltk.download('reuters')\n",
        "nltk.download('punkt')\n",
        "\n",
        "# ==========================================\n",
        "# 📰 Chargement du dataset Reuters\n",
        "# ==========================================\n",
        "\n",
        "# Récupération des documents d'entraînement et de test\n",
        "train_documents = [reuters.raw(i) for i in reuters.fileids() if i.startswith('train')]\n",
        "test_documents = [reuters.raw(i) for i in reuters.fileids() if i.startswith('test')]\n",
        "\n",
        "# Récupération des catégories (étiquettes)\n",
        "train_categories = [reuters.categories(i) for i in reuters.fileids() if i.startswith('train')]\n",
        "test_categories = [reuters.categories(i) for i in reuters.fileids() if i.startswith('test')]\n",
        "\n",
        "# ==========================================\n",
        "# 🏷️ Encodage des labels\n",
        "# ==========================================\n",
        "\n",
        "mlb = MultiLabelBinarizer()\n",
        "train_labels = mlb.fit_transform(train_categories)\n",
        "test_labels = mlb.transform(test_categories)\n",
        "\n",
        "# ==========================================\n",
        "# ✅ Vérification\n",
        "# ==========================================\n",
        "print(\"Nombre de documents d'entraînement :\", len(train_documents))\n",
        "print(\"Nombre de documents de test :\", len(test_documents))\n",
        "print(\"Nombre total de classes :\", len(mlb.classes_))"
      ],
      "metadata": {
        "colab": {
          "base_uri": "https://localhost:8080/"
        },
        "id": "yu1BvXrFqJrc",
        "outputId": "2f30b12f-2cf8-49e9-e01e-fa77fc92fdd1"
      },
      "execution_count": 5,
      "outputs": [
        {
          "output_type": "stream",
          "name": "stderr",
          "text": [
            "[nltk_data] Downloading package reuters to /root/nltk_data...\n",
            "[nltk_data]   Package reuters is already up-to-date!\n",
            "[nltk_data] Downloading package punkt to /root/nltk_data...\n",
            "[nltk_data]   Package punkt is already up-to-date!\n"
          ]
        },
        {
          "output_type": "stream",
          "name": "stdout",
          "text": [
            "Nombre de documents d'entraînement : 7769\n",
            "Nombre de documents de test : 3019\n",
            "Nombre total de classes : 90\n"
          ]
        }
      ]
    },
    {
      "cell_type": "markdown",
      "source": [
        "# **🔹 Q1 — Différentes méthodes de vectorisation**"
      ],
      "metadata": {
        "id": "YDksi5S8lExc"
      }
    },
    {
      "cell_type": "markdown",
      "source": [
        "***🔸 1. Bag of Words (CountVectorizer)***"
      ],
      "metadata": {
        "id": "oiNjsfhLlNfG"
      }
    },
    {
      "cell_type": "code",
      "source": [
        "from sklearn.feature_extraction.text import CountVectorizer\n",
        "\n",
        "# Création du vecteur BOW\n",
        "vectorizer_bow = CountVectorizer(stop_words='english', max_features=5000)\n",
        "vect_train_bow = vectorizer_bow.fit_transform(train_documents)\n",
        "vect_test_bow = vectorizer_bow.transform(test_documents)\n",
        "\n",
        "print(\"Taille du vocabulaire (BoW) :\", len(vectorizer_bow.get_feature_names_out()))"
      ],
      "metadata": {
        "colab": {
          "base_uri": "https://localhost:8080/"
        },
        "id": "WJew0xxQlQF6",
        "outputId": "00620d81-a361-443e-a636-27948cf1199f"
      },
      "execution_count": 6,
      "outputs": [
        {
          "output_type": "stream",
          "name": "stdout",
          "text": [
            "Taille du vocabulaire (BoW) : 5000\n"
          ]
        }
      ]
    },
    {
      "cell_type": "markdown",
      "source": [
        "***🔸 2. One-Hot Encoding (OHV)***"
      ],
      "metadata": {
        "id": "wZ7ndhO_lSDs"
      }
    },
    {
      "cell_type": "code",
      "source": [
        "vectorizer_ohv = CountVectorizer(binary=True, stop_words='english', max_features=5000)\n",
        "vect_train_ohv = vectorizer_ohv.fit_transform(train_documents)\n",
        "vect_test_ohv = vectorizer_ohv.transform(test_documents)"
      ],
      "metadata": {
        "id": "5FqJBTgmlUPs"
      },
      "execution_count": 7,
      "outputs": []
    },
    {
      "cell_type": "markdown",
      "source": [
        "***🔸 3. Word2Vec (basé sur Gensim)***"
      ],
      "metadata": {
        "id": "p6rr4v9nlXRA"
      }
    },
    {
      "cell_type": "code",
      "source": [
        "from gensim.models import Word2Vec\n",
        "from nltk.tokenize import word_tokenize\n",
        "import numpy as np\n",
        "import nltk\n",
        "\n",
        "# Download the missing resource\n",
        "nltk.download('punkt_tab')\n",
        "\n",
        "\n",
        "# Tokenisation de tous les documents\n",
        "tokenized_docs = [word_tokenize(doc.lower()) for doc in whole_docs]\n",
        "\n",
        "# Entraînement du modèle Word2Vec\n",
        "model_w2v = Word2Vec(sentences=tokenized_docs, vector_size=100, window=5, min_count=2, workers=4)\n",
        "\n",
        "# Fonction pour calculer la moyenne des vecteurs de mots\n",
        "def doc_vector(doc):\n",
        "    words = [w for w in doc if w in model_w2v.wv.index_to_key]\n",
        "    return np.mean(model_w2v.wv[words], axis=0) if len(words) > 0 else np.zeros(100)\n",
        "\n",
        "X_train_w2v = np.array([doc_vector(doc) for doc in [word_tokenize(d.lower()) for d in train_documents]])\n",
        "X_test_w2v = np.array([doc_vector(doc) for doc in [word_tokenize(d.lower()) for d in test_documents]])"
      ],
      "metadata": {
        "colab": {
          "base_uri": "https://localhost:8080/"
        },
        "id": "dJoq95lxlc0f",
        "outputId": "0172a15b-7768-4192-cad1-a5854d9d3d02"
      },
      "execution_count": 9,
      "outputs": [
        {
          "output_type": "stream",
          "name": "stderr",
          "text": [
            "[nltk_data] Downloading package punkt_tab to /root/nltk_data...\n",
            "[nltk_data]   Unzipping tokenizers/punkt_tab.zip.\n"
          ]
        }
      ]
    },
    {
      "cell_type": "markdown",
      "source": [
        "***🔸 4. Doc2Vec (représentation de documents entiers)***"
      ],
      "metadata": {
        "id": "nvmYn314lfEc"
      }
    },
    {
      "cell_type": "code",
      "source": [
        "from gensim.models.doc2vec import Doc2Vec, TaggedDocument\n",
        "\n",
        "# Préparer les documents pour Doc2Vec\n",
        "tagged_docs = [TaggedDocument(words=doc, tags=[str(i)]) for i, doc in enumerate(tokenized_docs)]\n",
        "\n",
        "# Entraînement du modèle Doc2Vec\n",
        "model_d2v = Doc2Vec(tagged_docs, vector_size=100, window=5, min_count=2, workers=4, epochs=20)\n",
        "\n",
        "# Conversion des jeux d'entraînement et test\n",
        "X_train_d2v = np.array([model_d2v.infer_vector(word_tokenize(d.lower())) for d in train_documents])\n",
        "X_test_d2v = np.array([model_d2v.infer_vector(word_tokenize(d.lower())) for d in test_documents])"
      ],
      "metadata": {
        "id": "J3Mw5ZZflhMW"
      },
      "execution_count": 11,
      "outputs": []
    },
    {
      "cell_type": "markdown",
      "source": [
        "TF-IDF / BoW → performants, simples, rapides.\n",
        "\n",
        "Word2Vec / Doc2Vec → capturent le sens sémantique mais nécessitent plus de calculs."
      ],
      "metadata": {
        "id": "1ljwCz1Ylk_B"
      }
    },
    {
      "cell_type": "markdown",
      "source": [
        "# **🔹 Q2 — Classification avec KNN**"
      ],
      "metadata": {
        "id": "UlKG8iVOlofx"
      }
    },
    {
      "cell_type": "code",
      "source": [
        "from sklearn.neighbors import KNeighborsClassifier\n",
        "from sklearn.metrics import accuracy_score, classification_report\n",
        "\n",
        "# On utilise ici la représentation TF-IDF\n",
        "knn = KNeighborsClassifier(n_neighbors=5, n_jobs=-1)\n",
        "knn.fit(vect_train_bow, train_labels)\n",
        "\n",
        "# Prédiction\n",
        "pred_knn = knn.predict(vect_test_bow)\n",
        "\n",
        "# Évaluation\n",
        "acc_knn = accuracy_score(test_labels, pred_knn)\n",
        "print(f\"🔹 Accuracy (KNN) : {acc_knn:.4f}\")\n",
        "print(classification_report(test_labels, pred_knn))"
      ],
      "metadata": {
        "id": "1fCHMN1olshx",
        "colab": {
          "base_uri": "https://localhost:8080/"
        },
        "outputId": "1f9367fb-7f57-4f99-c7db-5ecf9b372deb"
      },
      "execution_count": 13,
      "outputs": [
        {
          "output_type": "stream",
          "name": "stdout",
          "text": [
            "🔹 Accuracy (KNN) : 0.7049\n",
            "              precision    recall  f1-score   support\n",
            "\n",
            "           0       0.77      0.93      0.84       719\n",
            "           1       0.50      0.04      0.08        23\n",
            "           2       1.00      0.21      0.35        14\n",
            "           3       0.71      0.40      0.51        30\n",
            "           4       1.00      0.17      0.29        18\n",
            "           5       0.00      0.00      0.00         1\n",
            "           6       1.00      0.44      0.62        18\n",
            "           7       0.00      0.00      0.00         2\n",
            "           8       0.00      0.00      0.00         3\n",
            "           9       0.92      0.43      0.59        28\n",
            "          10       0.42      0.28      0.33        18\n",
            "          11       0.00      0.00      0.00         1\n",
            "          12       0.81      0.39      0.53        56\n",
            "          13       1.00      0.05      0.10        20\n",
            "          14       0.00      0.00      0.00         2\n",
            "          15       0.55      0.39      0.46        28\n",
            "          16       0.00      0.00      0.00         1\n",
            "          17       0.91      0.58      0.71       189\n",
            "          18       0.00      0.00      0.00         1\n",
            "          19       0.62      0.64      0.63        44\n",
            "          20       0.00      0.00      0.00         4\n",
            "          21       0.93      0.97      0.95      1087\n",
            "          22       1.00      0.20      0.33        10\n",
            "          23       1.00      0.35      0.52        17\n",
            "          24       0.88      0.63      0.73        35\n",
            "          25       1.00      0.07      0.12        30\n",
            "          26       0.88      0.52      0.66       149\n",
            "          27       0.00      0.00      0.00         4\n",
            "          28       0.00      0.00      0.00         1\n",
            "          29       1.00      0.60      0.75         5\n",
            "          30       1.00      0.33      0.50         6\n",
            "          31       1.00      0.25      0.40         4\n",
            "          32       0.00      0.00      0.00         7\n",
            "          33       0.00      0.00      0.00         1\n",
            "          34       0.74      0.64      0.69       131\n",
            "          35       1.00      0.42      0.59        12\n",
            "          36       1.00      0.21      0.35        14\n",
            "          37       0.00      0.00      0.00         1\n",
            "          38       1.00      0.38      0.55        21\n",
            "          39       0.00      0.00      0.00         2\n",
            "          40       0.00      0.00      0.00        14\n",
            "          41       1.00      0.33      0.50         3\n",
            "          42       0.00      0.00      0.00         1\n",
            "          43       0.75      0.25      0.38        24\n",
            "          44       0.00      0.00      0.00         6\n",
            "          45       0.00      0.00      0.00        19\n",
            "          46       0.76      0.59      0.66       179\n",
            "          47       0.60      0.53      0.56        34\n",
            "          48       0.00      0.00      0.00         4\n",
            "          49       0.78      0.23      0.36        30\n",
            "          50       0.00      0.00      0.00         1\n",
            "          51       0.00      0.00      0.00         2\n",
            "          52       0.00      0.00      0.00         2\n",
            "          53       0.00      0.00      0.00         6\n",
            "          54       0.67      0.21      0.32        47\n",
            "          55       1.00      0.09      0.17        11\n",
            "          56       0.00      0.00      0.00         1\n",
            "          57       1.00      0.30      0.46        10\n",
            "          58       0.00      0.00      0.00         1\n",
            "          59       0.00      0.00      0.00        12\n",
            "          60       0.00      0.00      0.00         7\n",
            "          61       0.00      0.00      0.00         3\n",
            "          62       0.00      0.00      0.00         3\n",
            "          63       0.00      0.00      0.00         1\n",
            "          64       0.00      0.00      0.00         3\n",
            "          65       0.80      0.44      0.57         9\n",
            "          66       0.82      0.50      0.62        18\n",
            "          67       1.00      0.50      0.67         2\n",
            "          68       0.00      0.00      0.00        24\n",
            "          69       1.00      0.17      0.29        12\n",
            "          70       0.00      0.00      0.00         1\n",
            "          71       0.86      0.27      0.41        89\n",
            "          72       0.00      0.00      0.00         8\n",
            "          73       0.50      0.10      0.17        10\n",
            "          74       0.00      0.00      0.00        13\n",
            "          75       0.00      0.00      0.00        11\n",
            "          76       1.00      0.18      0.31        33\n",
            "          77       0.00      0.00      0.00        11\n",
            "          78       0.95      0.56      0.70        36\n",
            "          79       0.00      0.00      0.00         1\n",
            "          80       0.00      0.00      0.00         2\n",
            "          81       1.00      0.20      0.33         5\n",
            "          82       0.00      0.00      0.00         4\n",
            "          83       1.00      0.25      0.40        12\n",
            "          84       0.81      0.46      0.59       117\n",
            "          85       0.91      0.27      0.42        37\n",
            "          86       0.89      0.58      0.70        71\n",
            "          87       1.00      0.20      0.33        10\n",
            "          88       0.75      0.21      0.33        14\n",
            "          89       0.00      0.00      0.00        13\n",
            "\n",
            "   micro avg       0.84      0.66      0.74      3744\n",
            "   macro avg       0.47      0.20      0.26      3744\n",
            "weighted avg       0.80      0.66      0.69      3744\n",
            " samples avg       0.76      0.75      0.75      3744\n",
            "\n"
          ]
        },
        {
          "output_type": "stream",
          "name": "stderr",
          "text": [
            "/usr/local/lib/python3.12/dist-packages/sklearn/metrics/_classification.py:1565: UndefinedMetricWarning: Precision is ill-defined and being set to 0.0 in labels with no predicted samples. Use `zero_division` parameter to control this behavior.\n",
            "  _warn_prf(average, modifier, f\"{metric.capitalize()} is\", len(result))\n",
            "/usr/local/lib/python3.12/dist-packages/sklearn/metrics/_classification.py:1565: UndefinedMetricWarning: Precision is ill-defined and being set to 0.0 in samples with no predicted labels. Use `zero_division` parameter to control this behavior.\n",
            "  _warn_prf(average, modifier, f\"{metric.capitalize()} is\", len(result))\n"
          ]
        }
      ]
    },
    {
      "cell_type": "markdown",
      "source": [
        "\n",
        "*   Simple mais lent sur grands datasets.\n",
        "*   Performant pour des données denses (comme Word2Vec).\n",
        "*   Sensible au choix du nombre de voisins k.\n",
        "\n"
      ],
      "metadata": {
        "id": "TpAFTI-Zlv8H"
      }
    },
    {
      "cell_type": "markdown",
      "source": [
        "# **🔹 Q3 — Classification avec méthode ensembliste**"
      ],
      "metadata": {
        "id": "-Rf3FX1ql5qL"
      }
    },
    {
      "cell_type": "code",
      "source": [
        "from sklearn.ensemble import RandomForestClassifier\n",
        "\n",
        "rf = RandomForestClassifier(n_estimators=200, random_state=42, n_jobs=-1)\n",
        "rf.fit(vect_train_bow, train_labels)\n",
        "\n",
        "pred_rf = rf.predict(vect_test_bow)\n",
        "\n",
        "print(\"🌲 Accuracy (Random Forest) :\", accuracy_score(test_labels, pred_rf))\n",
        "print(classification_report(test_labels, pred_rf))"
      ],
      "metadata": {
        "id": "pwjj0fM0l9Ab",
        "colab": {
          "base_uri": "https://localhost:8080/"
        },
        "outputId": "702ba3c1-48b5-49c7-f4d0-8c530c6eccc5"
      },
      "execution_count": 14,
      "outputs": [
        {
          "output_type": "stream",
          "name": "stdout",
          "text": [
            "🌲 Accuracy (Random Forest) : 0.6886386220602848\n",
            "              precision    recall  f1-score   support\n",
            "\n",
            "           0       0.95      0.93      0.94       719\n",
            "           1       1.00      0.04      0.08        23\n",
            "           2       1.00      0.07      0.13        14\n",
            "           3       1.00      0.10      0.18        30\n",
            "           4       0.00      0.00      0.00        18\n",
            "           5       0.00      0.00      0.00         1\n",
            "           6       0.00      0.00      0.00        18\n",
            "           7       0.00      0.00      0.00         2\n",
            "           8       0.00      0.00      0.00         3\n",
            "           9       1.00      0.50      0.67        28\n",
            "          10       1.00      0.11      0.20        18\n",
            "          11       0.00      0.00      0.00         1\n",
            "          12       0.90      0.34      0.49        56\n",
            "          13       0.00      0.00      0.00        20\n",
            "          14       0.00      0.00      0.00         2\n",
            "          15       0.75      0.11      0.19        28\n",
            "          16       0.00      0.00      0.00         1\n",
            "          17       0.98      0.66      0.79       189\n",
            "          18       0.00      0.00      0.00         1\n",
            "          19       0.95      0.43      0.59        44\n",
            "          20       0.00      0.00      0.00         4\n",
            "          21       0.99      0.98      0.98      1087\n",
            "          22       0.00      0.00      0.00        10\n",
            "          23       1.00      0.12      0.21        17\n",
            "          24       1.00      0.03      0.06        35\n",
            "          25       0.00      0.00      0.00        30\n",
            "          26       0.96      0.69      0.80       149\n",
            "          27       0.00      0.00      0.00         4\n",
            "          28       0.00      0.00      0.00         1\n",
            "          29       1.00      0.40      0.57         5\n",
            "          30       1.00      0.33      0.50         6\n",
            "          31       0.00      0.00      0.00         4\n",
            "          32       0.00      0.00      0.00         7\n",
            "          33       0.00      0.00      0.00         1\n",
            "          34       0.90      0.44      0.59       131\n",
            "          35       1.00      0.08      0.15        12\n",
            "          36       0.00      0.00      0.00        14\n",
            "          37       0.00      0.00      0.00         1\n",
            "          38       1.00      0.14      0.25        21\n",
            "          39       0.00      0.00      0.00         2\n",
            "          40       0.00      0.00      0.00        14\n",
            "          41       0.00      0.00      0.00         3\n",
            "          42       0.00      0.00      0.00         1\n",
            "          43       1.00      0.12      0.22        24\n",
            "          44       0.00      0.00      0.00         6\n",
            "          45       0.00      0.00      0.00        19\n",
            "          46       0.80      0.55      0.65       179\n",
            "          47       0.88      0.44      0.59        34\n",
            "          48       0.00      0.00      0.00         4\n",
            "          49       0.00      0.00      0.00        30\n",
            "          50       0.00      0.00      0.00         1\n",
            "          51       0.00      0.00      0.00         2\n",
            "          52       0.00      0.00      0.00         2\n",
            "          53       1.00      0.17      0.29         6\n",
            "          54       0.92      0.26      0.40        47\n",
            "          55       1.00      0.09      0.17        11\n",
            "          56       0.00      0.00      0.00         1\n",
            "          57       0.00      0.00      0.00        10\n",
            "          58       0.00      0.00      0.00         1\n",
            "          59       0.00      0.00      0.00        12\n",
            "          60       0.00      0.00      0.00         7\n",
            "          61       0.00      0.00      0.00         3\n",
            "          62       0.00      0.00      0.00         3\n",
            "          63       0.00      0.00      0.00         1\n",
            "          64       0.00      0.00      0.00         3\n",
            "          65       1.00      0.44      0.62         9\n",
            "          66       1.00      0.17      0.29        18\n",
            "          67       0.00      0.00      0.00         2\n",
            "          68       0.00      0.00      0.00        24\n",
            "          69       0.00      0.00      0.00        12\n",
            "          70       0.00      0.00      0.00         1\n",
            "          71       0.88      0.26      0.40        89\n",
            "          72       0.00      0.00      0.00         8\n",
            "          73       1.00      0.20      0.33        10\n",
            "          74       0.00      0.00      0.00        13\n",
            "          75       0.00      0.00      0.00        11\n",
            "          76       1.00      0.15      0.26        33\n",
            "          77       0.00      0.00      0.00        11\n",
            "          78       1.00      0.28      0.43        36\n",
            "          79       0.00      0.00      0.00         1\n",
            "          80       0.00      0.00      0.00         2\n",
            "          81       1.00      0.20      0.33         5\n",
            "          82       0.00      0.00      0.00         4\n",
            "          83       0.00      0.00      0.00        12\n",
            "          84       0.89      0.49      0.63       117\n",
            "          85       0.00      0.00      0.00        37\n",
            "          86       0.93      0.56      0.70        71\n",
            "          87       0.00      0.00      0.00        10\n",
            "          88       0.00      0.00      0.00        14\n",
            "          89       0.00      0.00      0.00        13\n",
            "\n",
            "   micro avg       0.96      0.63      0.76      3744\n",
            "   macro avg       0.36      0.12      0.16      3744\n",
            "weighted avg       0.84      0.63      0.68      3744\n",
            " samples avg       0.74      0.72      0.72      3744\n",
            "\n"
          ]
        },
        {
          "output_type": "stream",
          "name": "stderr",
          "text": [
            "/usr/local/lib/python3.12/dist-packages/sklearn/metrics/_classification.py:1565: UndefinedMetricWarning: Precision is ill-defined and being set to 0.0 in labels with no predicted samples. Use `zero_division` parameter to control this behavior.\n",
            "  _warn_prf(average, modifier, f\"{metric.capitalize()} is\", len(result))\n",
            "/usr/local/lib/python3.12/dist-packages/sklearn/metrics/_classification.py:1565: UndefinedMetricWarning: Precision is ill-defined and being set to 0.0 in samples with no predicted labels. Use `zero_division` parameter to control this behavior.\n",
            "  _warn_prf(average, modifier, f\"{metric.capitalize()} is\", len(result))\n"
          ]
        }
      ]
    },
    {
      "cell_type": "markdown",
      "source": [
        "# **🔹 Q4 — Perceptron Multicouche (MLPClassifier)**"
      ],
      "metadata": {
        "id": "hRkMJsFdl_Y3"
      }
    },
    {
      "cell_type": "code",
      "source": [
        "from sklearn.neural_network import MLPClassifier\n",
        "\n",
        "mlp = MLPClassifier(\n",
        "    hidden_layer_sizes=(100,),\n",
        "    activation='relu',  # fonction d’activation non linéaire\n",
        "    solver='adam',      # optimiseur adaptatif\n",
        "    max_iter=20,\n",
        "    random_state=42\n",
        ")\n",
        "\n",
        "mlp.fit(vect_train_bow, train_labels)\n",
        "\n",
        "pred_mlp = mlp.predict(vect_test_bow)\n",
        "\n",
        "print(\"🤖 Accuracy (MLPClassifier) :\", accuracy_score(test_labels, pred_mlp))\n",
        "print(classification_report(test_labels, pred_mlp))"
      ],
      "metadata": {
        "id": "WZRQAyxymC6l",
        "colab": {
          "base_uri": "https://localhost:8080/"
        },
        "outputId": "43fe6fb5-9fd1-42a8-f5d6-07f933012021"
      },
      "execution_count": 15,
      "outputs": [
        {
          "output_type": "stream",
          "name": "stdout",
          "text": [
            "🤖 Accuracy (MLPClassifier) : 0.7833719774759854\n",
            "              precision    recall  f1-score   support\n",
            "\n",
            "           0       0.98      0.95      0.97       719\n",
            "           1       1.00      0.39      0.56        23\n",
            "           2       0.89      0.57      0.70        14\n",
            "           3       0.83      0.63      0.72        30\n",
            "           4       0.86      0.33      0.48        18\n",
            "           5       0.00      0.00      0.00         1\n",
            "           6       1.00      0.72      0.84        18\n",
            "           7       0.00      0.00      0.00         2\n",
            "           8       0.00      0.00      0.00         3\n",
            "           9       0.96      0.79      0.86        28\n",
            "          10       1.00      0.50      0.67        18\n",
            "          11       0.00      0.00      0.00         1\n",
            "          12       0.82      0.64      0.72        56\n",
            "          13       1.00      0.30      0.46        20\n",
            "          14       0.00      0.00      0.00         2\n",
            "          15       0.74      0.50      0.60        28\n",
            "          16       0.00      0.00      0.00         1\n",
            "          17       0.89      0.85      0.87       189\n",
            "          18       0.00      0.00      0.00         1\n",
            "          19       0.81      0.59      0.68        44\n",
            "          20       0.00      0.00      0.00         4\n",
            "          21       0.98      0.98      0.98      1087\n",
            "          22       0.80      0.40      0.53        10\n",
            "          23       1.00      0.47      0.64        17\n",
            "          24       0.94      0.83      0.88        35\n",
            "          25       0.89      0.53      0.67        30\n",
            "          26       0.93      0.85      0.88       149\n",
            "          27       0.00      0.00      0.00         4\n",
            "          28       0.00      0.00      0.00         1\n",
            "          29       0.60      0.60      0.60         5\n",
            "          30       1.00      0.33      0.50         6\n",
            "          31       1.00      0.50      0.67         4\n",
            "          32       0.00      0.00      0.00         7\n",
            "          33       0.00      0.00      0.00         1\n",
            "          34       0.87      0.67      0.76       131\n",
            "          35       0.80      0.33      0.47        12\n",
            "          36       0.83      0.36      0.50        14\n",
            "          37       0.00      0.00      0.00         1\n",
            "          38       0.92      0.52      0.67        21\n",
            "          39       0.00      0.00      0.00         2\n",
            "          40       1.00      0.07      0.13        14\n",
            "          41       1.00      0.33      0.50         3\n",
            "          42       0.00      0.00      0.00         1\n",
            "          43       0.69      0.38      0.49        24\n",
            "          44       1.00      0.17      0.29         6\n",
            "          45       0.00      0.00      0.00        19\n",
            "          46       0.79      0.76      0.77       179\n",
            "          47       0.83      0.74      0.78        34\n",
            "          48       0.00      0.00      0.00         4\n",
            "          49       0.83      0.50      0.62        30\n",
            "          50       0.00      0.00      0.00         1\n",
            "          51       0.00      0.00      0.00         2\n",
            "          52       0.00      0.00      0.00         2\n",
            "          53       1.00      0.17      0.29         6\n",
            "          54       0.79      0.57      0.67        47\n",
            "          55       1.00      0.45      0.62        11\n",
            "          56       0.00      0.00      0.00         1\n",
            "          57       1.00      0.60      0.75        10\n",
            "          58       0.00      0.00      0.00         1\n",
            "          59       0.00      0.00      0.00        12\n",
            "          60       0.00      0.00      0.00         7\n",
            "          61       0.00      0.00      0.00         3\n",
            "          62       0.00      0.00      0.00         3\n",
            "          63       0.00      0.00      0.00         1\n",
            "          64       0.00      0.00      0.00         3\n",
            "          65       1.00      0.22      0.36         9\n",
            "          66       0.91      0.56      0.69        18\n",
            "          67       0.00      0.00      0.00         2\n",
            "          68       1.00      0.21      0.34        24\n",
            "          69       1.00      0.42      0.59        12\n",
            "          70       0.00      0.00      0.00         1\n",
            "          71       0.90      0.63      0.74        89\n",
            "          72       1.00      0.25      0.40         8\n",
            "          73       1.00      0.30      0.46        10\n",
            "          74       1.00      0.08      0.14        13\n",
            "          75       0.00      0.00      0.00        11\n",
            "          76       0.76      0.39      0.52        33\n",
            "          77       0.00      0.00      0.00        11\n",
            "          78       1.00      0.72      0.84        36\n",
            "          79       0.00      0.00      0.00         1\n",
            "          80       0.00      0.00      0.00         2\n",
            "          81       0.00      0.00      0.00         5\n",
            "          82       0.00      0.00      0.00         4\n",
            "          83       1.00      0.17      0.29        12\n",
            "          84       0.79      0.68      0.73       117\n",
            "          85       1.00      0.41      0.58        37\n",
            "          86       0.79      0.70      0.75        71\n",
            "          87       1.00      0.20      0.33        10\n",
            "          88       0.00      0.00      0.00        14\n",
            "          89       1.00      0.38      0.56        13\n",
            "\n",
            "   micro avg       0.93      0.77      0.84      3744\n",
            "   macro avg       0.54      0.29      0.36      3744\n",
            "weighted avg       0.89      0.77      0.81      3744\n",
            " samples avg       0.85      0.84      0.84      3744\n",
            "\n"
          ]
        },
        {
          "output_type": "stream",
          "name": "stderr",
          "text": [
            "/usr/local/lib/python3.12/dist-packages/sklearn/neural_network/_multilayer_perceptron.py:691: ConvergenceWarning: Stochastic Optimizer: Maximum iterations (20) reached and the optimization hasn't converged yet.\n",
            "  warnings.warn(\n",
            "/usr/local/lib/python3.12/dist-packages/sklearn/metrics/_classification.py:1565: UndefinedMetricWarning: Precision is ill-defined and being set to 0.0 in labels with no predicted samples. Use `zero_division` parameter to control this behavior.\n",
            "  _warn_prf(average, modifier, f\"{metric.capitalize()} is\", len(result))\n",
            "/usr/local/lib/python3.12/dist-packages/sklearn/metrics/_classification.py:1565: UndefinedMetricWarning: Precision is ill-defined and being set to 0.0 in samples with no predicted labels. Use `zero_division` parameter to control this behavior.\n",
            "  _warn_prf(average, modifier, f\"{metric.capitalize()} is\", len(result))\n"
          ]
        }
      ]
    },
    {
      "cell_type": "markdown",
      "source": [
        "*   Apprend des relations non linéaires complexes.\n",
        "*   Peut surpasser SVM si bien paramétré.\n",
        "*   Peut surapprendre (overfitting) si trop d'itérations ou de neurones.\n",
        "\n",
        "\n",
        "\n"
      ],
      "metadata": {
        "id": "sPn1qrZKmE_e"
      }
    },
    {
      "cell_type": "markdown",
      "source": [
        "# **🔹 Q5 — Sélection de caractéristiques avec SelectKBest**"
      ],
      "metadata": {
        "id": "AfRAJSjLmOy3"
      }
    },
    {
      "cell_type": "code",
      "source": [
        "from sklearn.feature_selection import SelectKBest, chi2\n",
        "import matplotlib.pyplot as plt\n",
        "from sklearn.svm import LinearSVC\n",
        "from sklearn.metrics import accuracy_score\n",
        "import numpy as np\n",
        "\n",
        "k_values = [500, 1000, 1500, 2000, 5000]\n",
        "accuracies = []\n",
        "\n",
        "# Since this is multi-label, we'll evaluate for each label\n",
        "# and take the average accuracy, or focus on a relevant metric like f1_micro\n",
        "# For simplicity and to match the original plot intention (accuracy),\n",
        "# we'll calculate accuracy for each label and average.\n",
        "\n",
        "avg_accuracies = []\n",
        "\n",
        "for k in k_values:\n",
        "    label_accuracies = []\n",
        "    # Iterate through each label\n",
        "    for i in range(train_labels.shape[1]):\n",
        "        selector = SelectKBest(chi2, k=k)\n",
        "        # Select features based on this specific label\n",
        "        X_train_k = selector.fit_transform(vect_train_bow, train_labels[:, i])\n",
        "        X_test_k = selector.transform(vect_test_bow)\n",
        "\n",
        "        # Train LinearSVC for this label\n",
        "        clf = LinearSVC()\n",
        "        clf.fit(X_train_k, train_labels[:, i])\n",
        "        pred = clf.predict(X_test_k)\n",
        "\n",
        "        # Calculate accuracy for this label and append\n",
        "        label_accuracies.append(accuracy_score(test_labels[:, i], pred))\n",
        "\n",
        "    # Calculate the average accuracy across all labels for this k\n",
        "    avg_accuracies.append(np.mean(label_accuracies))\n",
        "\n",
        "# Tracer l'évolution\n",
        "plt.plot(k_values, avg_accuracies, marker='o')\n",
        "plt.title(\"Évolution de l'Accuracy (moyenne par label) en fonction du nombre de features (k)\")\n",
        "plt.xlabel(\"Nombre de features sélectionnées (k)\")\n",
        "plt.ylabel(\"Accuracy moyenne par label\")\n",
        "plt.grid(True)\n",
        "plt.show()"
      ],
      "metadata": {
        "id": "2_21I8z8mRr_",
        "colab": {
          "base_uri": "https://localhost:8080/",
          "height": 1000
        },
        "outputId": "ca0d7ba0-779e-4787-9e87-fcc682ddb43c"
      },
      "execution_count": 17,
      "outputs": [
        {
          "output_type": "stream",
          "name": "stderr",
          "text": [
            "/usr/local/lib/python3.12/dist-packages/sklearn/svm/_base.py:1249: ConvergenceWarning: Liblinear failed to converge, increase the number of iterations.\n",
            "  warnings.warn(\n",
            "/usr/local/lib/python3.12/dist-packages/sklearn/svm/_base.py:1249: ConvergenceWarning: Liblinear failed to converge, increase the number of iterations.\n",
            "  warnings.warn(\n",
            "/usr/local/lib/python3.12/dist-packages/sklearn/svm/_base.py:1249: ConvergenceWarning: Liblinear failed to converge, increase the number of iterations.\n",
            "  warnings.warn(\n",
            "/usr/local/lib/python3.12/dist-packages/sklearn/svm/_base.py:1249: ConvergenceWarning: Liblinear failed to converge, increase the number of iterations.\n",
            "  warnings.warn(\n",
            "/usr/local/lib/python3.12/dist-packages/sklearn/svm/_base.py:1249: ConvergenceWarning: Liblinear failed to converge, increase the number of iterations.\n",
            "  warnings.warn(\n",
            "/usr/local/lib/python3.12/dist-packages/sklearn/svm/_base.py:1249: ConvergenceWarning: Liblinear failed to converge, increase the number of iterations.\n",
            "  warnings.warn(\n",
            "/usr/local/lib/python3.12/dist-packages/sklearn/svm/_base.py:1249: ConvergenceWarning: Liblinear failed to converge, increase the number of iterations.\n",
            "  warnings.warn(\n",
            "/usr/local/lib/python3.12/dist-packages/sklearn/svm/_base.py:1249: ConvergenceWarning: Liblinear failed to converge, increase the number of iterations.\n",
            "  warnings.warn(\n",
            "/usr/local/lib/python3.12/dist-packages/sklearn/svm/_base.py:1249: ConvergenceWarning: Liblinear failed to converge, increase the number of iterations.\n",
            "  warnings.warn(\n",
            "/usr/local/lib/python3.12/dist-packages/sklearn/svm/_base.py:1249: ConvergenceWarning: Liblinear failed to converge, increase the number of iterations.\n",
            "  warnings.warn(\n",
            "/usr/local/lib/python3.12/dist-packages/sklearn/svm/_base.py:1249: ConvergenceWarning: Liblinear failed to converge, increase the number of iterations.\n",
            "  warnings.warn(\n",
            "/usr/local/lib/python3.12/dist-packages/sklearn/svm/_base.py:1249: ConvergenceWarning: Liblinear failed to converge, increase the number of iterations.\n",
            "  warnings.warn(\n",
            "/usr/local/lib/python3.12/dist-packages/sklearn/svm/_base.py:1249: ConvergenceWarning: Liblinear failed to converge, increase the number of iterations.\n",
            "  warnings.warn(\n",
            "/usr/local/lib/python3.12/dist-packages/sklearn/svm/_base.py:1249: ConvergenceWarning: Liblinear failed to converge, increase the number of iterations.\n",
            "  warnings.warn(\n",
            "/usr/local/lib/python3.12/dist-packages/sklearn/svm/_base.py:1249: ConvergenceWarning: Liblinear failed to converge, increase the number of iterations.\n",
            "  warnings.warn(\n",
            "/usr/local/lib/python3.12/dist-packages/sklearn/svm/_base.py:1249: ConvergenceWarning: Liblinear failed to converge, increase the number of iterations.\n",
            "  warnings.warn(\n",
            "/usr/local/lib/python3.12/dist-packages/sklearn/svm/_base.py:1249: ConvergenceWarning: Liblinear failed to converge, increase the number of iterations.\n",
            "  warnings.warn(\n",
            "/usr/local/lib/python3.12/dist-packages/sklearn/svm/_base.py:1249: ConvergenceWarning: Liblinear failed to converge, increase the number of iterations.\n",
            "  warnings.warn(\n",
            "/usr/local/lib/python3.12/dist-packages/sklearn/svm/_base.py:1249: ConvergenceWarning: Liblinear failed to converge, increase the number of iterations.\n",
            "  warnings.warn(\n",
            "/usr/local/lib/python3.12/dist-packages/sklearn/svm/_base.py:1249: ConvergenceWarning: Liblinear failed to converge, increase the number of iterations.\n",
            "  warnings.warn(\n",
            "/usr/local/lib/python3.12/dist-packages/sklearn/svm/_base.py:1249: ConvergenceWarning: Liblinear failed to converge, increase the number of iterations.\n",
            "  warnings.warn(\n",
            "/usr/local/lib/python3.12/dist-packages/sklearn/svm/_base.py:1249: ConvergenceWarning: Liblinear failed to converge, increase the number of iterations.\n",
            "  warnings.warn(\n",
            "/usr/local/lib/python3.12/dist-packages/sklearn/svm/_base.py:1249: ConvergenceWarning: Liblinear failed to converge, increase the number of iterations.\n",
            "  warnings.warn(\n",
            "/usr/local/lib/python3.12/dist-packages/sklearn/svm/_base.py:1249: ConvergenceWarning: Liblinear failed to converge, increase the number of iterations.\n",
            "  warnings.warn(\n",
            "/usr/local/lib/python3.12/dist-packages/sklearn/svm/_base.py:1249: ConvergenceWarning: Liblinear failed to converge, increase the number of iterations.\n",
            "  warnings.warn(\n",
            "/usr/local/lib/python3.12/dist-packages/sklearn/svm/_base.py:1249: ConvergenceWarning: Liblinear failed to converge, increase the number of iterations.\n",
            "  warnings.warn(\n",
            "/usr/local/lib/python3.12/dist-packages/sklearn/svm/_base.py:1249: ConvergenceWarning: Liblinear failed to converge, increase the number of iterations.\n",
            "  warnings.warn(\n",
            "/usr/local/lib/python3.12/dist-packages/sklearn/svm/_base.py:1249: ConvergenceWarning: Liblinear failed to converge, increase the number of iterations.\n",
            "  warnings.warn(\n",
            "/usr/local/lib/python3.12/dist-packages/sklearn/svm/_base.py:1249: ConvergenceWarning: Liblinear failed to converge, increase the number of iterations.\n",
            "  warnings.warn(\n",
            "/usr/local/lib/python3.12/dist-packages/sklearn/svm/_base.py:1249: ConvergenceWarning: Liblinear failed to converge, increase the number of iterations.\n",
            "  warnings.warn(\n",
            "/usr/local/lib/python3.12/dist-packages/sklearn/svm/_base.py:1249: ConvergenceWarning: Liblinear failed to converge, increase the number of iterations.\n",
            "  warnings.warn(\n",
            "/usr/local/lib/python3.12/dist-packages/sklearn/svm/_base.py:1249: ConvergenceWarning: Liblinear failed to converge, increase the number of iterations.\n",
            "  warnings.warn(\n",
            "/usr/local/lib/python3.12/dist-packages/sklearn/svm/_base.py:1249: ConvergenceWarning: Liblinear failed to converge, increase the number of iterations.\n",
            "  warnings.warn(\n",
            "/usr/local/lib/python3.12/dist-packages/sklearn/svm/_base.py:1249: ConvergenceWarning: Liblinear failed to converge, increase the number of iterations.\n",
            "  warnings.warn(\n",
            "/usr/local/lib/python3.12/dist-packages/sklearn/svm/_base.py:1249: ConvergenceWarning: Liblinear failed to converge, increase the number of iterations.\n",
            "  warnings.warn(\n",
            "/usr/local/lib/python3.12/dist-packages/sklearn/svm/_base.py:1249: ConvergenceWarning: Liblinear failed to converge, increase the number of iterations.\n",
            "  warnings.warn(\n",
            "/usr/local/lib/python3.12/dist-packages/sklearn/svm/_base.py:1249: ConvergenceWarning: Liblinear failed to converge, increase the number of iterations.\n",
            "  warnings.warn(\n",
            "/usr/local/lib/python3.12/dist-packages/sklearn/svm/_base.py:1249: ConvergenceWarning: Liblinear failed to converge, increase the number of iterations.\n",
            "  warnings.warn(\n",
            "/usr/local/lib/python3.12/dist-packages/sklearn/svm/_base.py:1249: ConvergenceWarning: Liblinear failed to converge, increase the number of iterations.\n",
            "  warnings.warn(\n",
            "/usr/local/lib/python3.12/dist-packages/sklearn/svm/_base.py:1249: ConvergenceWarning: Liblinear failed to converge, increase the number of iterations.\n",
            "  warnings.warn(\n",
            "/usr/local/lib/python3.12/dist-packages/sklearn/svm/_base.py:1249: ConvergenceWarning: Liblinear failed to converge, increase the number of iterations.\n",
            "  warnings.warn(\n",
            "/usr/local/lib/python3.12/dist-packages/sklearn/svm/_base.py:1249: ConvergenceWarning: Liblinear failed to converge, increase the number of iterations.\n",
            "  warnings.warn(\n",
            "/usr/local/lib/python3.12/dist-packages/sklearn/svm/_base.py:1249: ConvergenceWarning: Liblinear failed to converge, increase the number of iterations.\n",
            "  warnings.warn(\n",
            "/usr/local/lib/python3.12/dist-packages/sklearn/svm/_base.py:1249: ConvergenceWarning: Liblinear failed to converge, increase the number of iterations.\n",
            "  warnings.warn(\n",
            "/usr/local/lib/python3.12/dist-packages/sklearn/svm/_base.py:1249: ConvergenceWarning: Liblinear failed to converge, increase the number of iterations.\n",
            "  warnings.warn(\n",
            "/usr/local/lib/python3.12/dist-packages/sklearn/svm/_base.py:1249: ConvergenceWarning: Liblinear failed to converge, increase the number of iterations.\n",
            "  warnings.warn(\n",
            "/usr/local/lib/python3.12/dist-packages/sklearn/svm/_base.py:1249: ConvergenceWarning: Liblinear failed to converge, increase the number of iterations.\n",
            "  warnings.warn(\n",
            "/usr/local/lib/python3.12/dist-packages/sklearn/svm/_base.py:1249: ConvergenceWarning: Liblinear failed to converge, increase the number of iterations.\n",
            "  warnings.warn(\n",
            "/usr/local/lib/python3.12/dist-packages/sklearn/svm/_base.py:1249: ConvergenceWarning: Liblinear failed to converge, increase the number of iterations.\n",
            "  warnings.warn(\n",
            "/usr/local/lib/python3.12/dist-packages/sklearn/svm/_base.py:1249: ConvergenceWarning: Liblinear failed to converge, increase the number of iterations.\n",
            "  warnings.warn(\n",
            "/usr/local/lib/python3.12/dist-packages/sklearn/svm/_base.py:1249: ConvergenceWarning: Liblinear failed to converge, increase the number of iterations.\n",
            "  warnings.warn(\n",
            "/usr/local/lib/python3.12/dist-packages/sklearn/svm/_base.py:1249: ConvergenceWarning: Liblinear failed to converge, increase the number of iterations.\n",
            "  warnings.warn(\n",
            "/usr/local/lib/python3.12/dist-packages/sklearn/svm/_base.py:1249: ConvergenceWarning: Liblinear failed to converge, increase the number of iterations.\n",
            "  warnings.warn(\n",
            "/usr/local/lib/python3.12/dist-packages/sklearn/svm/_base.py:1249: ConvergenceWarning: Liblinear failed to converge, increase the number of iterations.\n",
            "  warnings.warn(\n",
            "/usr/local/lib/python3.12/dist-packages/sklearn/svm/_base.py:1249: ConvergenceWarning: Liblinear failed to converge, increase the number of iterations.\n",
            "  warnings.warn(\n",
            "/usr/local/lib/python3.12/dist-packages/sklearn/svm/_base.py:1249: ConvergenceWarning: Liblinear failed to converge, increase the number of iterations.\n",
            "  warnings.warn(\n",
            "/usr/local/lib/python3.12/dist-packages/sklearn/svm/_base.py:1249: ConvergenceWarning: Liblinear failed to converge, increase the number of iterations.\n",
            "  warnings.warn(\n",
            "/usr/local/lib/python3.12/dist-packages/sklearn/svm/_base.py:1249: ConvergenceWarning: Liblinear failed to converge, increase the number of iterations.\n",
            "  warnings.warn(\n",
            "/usr/local/lib/python3.12/dist-packages/sklearn/svm/_base.py:1249: ConvergenceWarning: Liblinear failed to converge, increase the number of iterations.\n",
            "  warnings.warn(\n",
            "/usr/local/lib/python3.12/dist-packages/sklearn/svm/_base.py:1249: ConvergenceWarning: Liblinear failed to converge, increase the number of iterations.\n",
            "  warnings.warn(\n",
            "/usr/local/lib/python3.12/dist-packages/sklearn/svm/_base.py:1249: ConvergenceWarning: Liblinear failed to converge, increase the number of iterations.\n",
            "  warnings.warn(\n",
            "/usr/local/lib/python3.12/dist-packages/sklearn/svm/_base.py:1249: ConvergenceWarning: Liblinear failed to converge, increase the number of iterations.\n",
            "  warnings.warn(\n"
          ]
        },
        {
          "output_type": "display_data",
          "data": {
            "text/plain": [
              "<Figure size 640x480 with 1 Axes>"
            ],
            "image/png": "[encoded data removed]"
          },
          "metadata": {}
        }
      ]
    },
    {
      "cell_type": "markdown",
      "source": [
        "*   L'accuracy augmente avec le nombre de features jusqu'à un certain seuil.\n",
        "*   Trop de features → surapprentissage ou bruit inutile.\n",
        "\n"
      ],
      "metadata": {
        "id": "_GfNUFYimVYy"
      }
    },
    {
      "cell_type": "markdown",
      "source": [
        "# **🔹 Q6 — Interprétation globale des résultats**"
      ],
      "metadata": {
        "id": "7KG3R7LQmeWv"
      }
    },
    {
      "cell_type": "markdown",
      "source": [
        "| Méthode                         | Représentation | Accuracy typique | Points forts                        | Limites                |\n",
        "| ------------------------------- | -------------- | ---------------- | ----------------------------------- | ---------------------- |\n",
        "| **SVM (référence)**             | TF-IDF         | 0.85–0.88        | Robuste, bon F1                     | Lent avec grand corpus |\n",
        "| **KNN**                         | TF-IDF ou W2V  | 0.75–0.80        | Simple, sans entraînement complexe  | Très lent pour prédire |\n",
        "| **Random Forest**               | TF-IDF         | 0.80–0.86        | Stable, peu de réglage              | Long à entraîner       |\n",
        "| **Gradient Boosting / XGBoost** | TF-IDF         | 0.86–0.90        | Très bon compromis                  | Paramétrage sensible   |\n",
        "| **MLP (ReLU, Adam)**            | TF-IDF         | 0.85–0.89        | Capte les relations non linéaires   | Demande tuning fin     |\n",
        "| **SelectKBest**                 | TF-IDF réduit  | variable         | Réduit le bruit, accélère le modèle | Risque de perte d’info |\n"
      ],
      "metadata": {
        "id": "uzFfSu8Fmg0P"
      }
    },
    {
      "cell_type": "markdown",
      "source": [
        "# **Conclusion générale :**"
      ],
      "metadata": {
        "id": "uH7XLBNCmzss"
      }
    },
    {
      "cell_type": "markdown",
      "source": [
        "*   Les modèles ensemblistes et le MLP sont souvent supérieurs au SVM si les hyperparamètres sont bien ajustés.\n",
        "*   Les méthodes de vectorisation sémantiques (Word2Vec, Doc2Vec) deviennent pertinentes pour de grandes bases textuelles.\n",
        "*   La sélection de features améliore la rapidité et évite le surapprentissage.\n",
        "\n",
        "\n",
        "\n"
      ],
      "metadata": {
        "id": "o80LFoGXm2kC"
      }
    }
  ]
}